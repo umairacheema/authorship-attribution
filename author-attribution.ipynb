{
 "cells": [
  {
   "cell_type": "markdown",
   "metadata": {},
   "source": [
    "<h1 align=\"center\">Authorship Attribution using Machine Learning\n",
    "</h1>       "
   ]
  },
  {
   "cell_type": "markdown",
   "metadata": {},
   "source": [
    "<img src=\"images/title.png\" height=\"233\" width=\"500\">"
   ]
  },
  {
   "cell_type": "markdown",
   "metadata": {},
   "source": [
    "### Overview and Motivation"
   ]
  },
  {
   "cell_type": "markdown",
   "metadata": {},
   "source": [
    "The objective of this project is to investigate application of Machine Learning algorithms for authorship attribution. Authorship attribution refers to the process of identifying the writer of a piece of text.\n",
    "It has a wide range of applications in many diverse domains such as :\n",
    "- Academia\n",
    "- History of Literature\n",
    "- Homeland Security\n",
    "- Criminal Investigation\n",
    "\n",
    "The basic idea behind Authorship Attribution is to analyse text document such as a letter, book, transcript of telephonic conversation, email or social media post under pseudonym to find the author.\n",
    "\n",
    "Some typical applications are plagiarism detection, finding the author of an anonymously published literary work, identifying an individual terrorist or a terrorist organisation from their written letters or threat emails and shortlisting potential criminals.\n",
    "\n",
    "The main goal of the project is to develop a model to detect the author/writer of a piece of text from a list of authors/writers given a piece of text.\n",
    "\n",
    "I have divided the project into following phases:\n",
    "\n",
    "1) Discovery \n",
    "\n",
    "2) Data Preparation\n",
    "\n",
    "3) Model Planning\n",
    "\n",
    "4) Model Building\n",
    "\n",
    "5) Result\n",
    "\n",
    "6) Operational Implementation\n"
   ]
  },
  {
   "cell_type": "markdown",
   "metadata": {},
   "source": [
    "### 1. Discovery"
   ]
  },
  {
   "cell_type": "markdown",
   "metadata": {},
   "source": [
    "In this phase I consulted a number of research papers, online resources and  some books to learn how other data scientists have addressed authorship attribution problem. The references are given at the end of this notebook.\n"
   ]
  },
  {
   "cell_type": "markdown",
   "metadata": {},
   "source": [
    "#### 1.1 Authorship Attribution Overview"
   ]
  },
  {
   "cell_type": "markdown",
   "metadata": {},
   "source": [
    "\n",
    "Authorship attribution employs stylometry for finding the author of a piece of text. Stylometry can be defined as  the study of linguistic style of written text. It involves identifying unique style markers in a given piece of text.The style markers are those features that one can find repeating in different texts writtern by the same writer.This repeating style markers are called 'writer invariant'.\n",
    "\n",
    "Stylometry analysis uses lexical, synctactic, structural and content specific style markers that distinguish an author from other authors. Lexical descriptors provide statistics such as total number of words/characters, average number of words per sentence and distribution of word length etc.Synctactic features focus on structure of the sentences such as usage of punctuation marks whereas the structural markers look into the organisation of text into paragraphs, headings etc[1].\n",
    "\n",
    "Some approaches take into account n-grams (combination of words) as features while others only use set of terms called 'bag of words' approach.\n"
   ]
  },
  {
   "cell_type": "markdown",
   "metadata": {},
   "source": [
    "#### 1.2 Related Work "
   ]
  },
  {
   "cell_type": "markdown",
   "metadata": {},
   "source": [
    "Different researchers have tried different machine learning algorithms for authorship attribution. Some of the main algorithms that I found in the papers that I consulted include K-nearest neighbors, Bayesian, Support Vector Machines(SVM), Feed Forward Multilayer Perceptrons (MLP) and ensembles using combination of these algorithms.\n",
    "\n",
    "In 2007 Bozkurt, Bağlıoğlu and Uyar[2] found that 'Bag of Words' approach with SVM gave very high accuracy. In 2007 Stańczyk and Cyran[1] used ANN and found that highest classification ratio is granted by the exploitation of syntactic textual features.\n",
    "\n",
    "In 2014 Pratanwanich and Lio[3] have used Supervised Author Topic (SAT) model that is based on probabilistic generative model and has exhibited same performance as Random Forests. \n",
    "\n"
   ]
  },
  {
   "cell_type": "markdown",
   "metadata": {},
   "source": [
    "#### 1.3. Initial Questions & Context"
   ]
  },
  {
   "cell_type": "markdown",
   "metadata": {},
   "source": [
    "The main questions for this project were:\n",
    "\n",
    "_1) Can \"Bag of Words\" as features give acceptable classification accuracy?_\n",
    "\n",
    "_2) Which algorithms perform best with Bag of Words?_\n",
    "\n",
    "_3) How can Big Data processing engines such as Apache Spark aid in preparing data for Machine Learning algorithms?_\n",
    "\n",
    "_4) How can one clean Gutenberg data to be used for different NLP related research projects?_\n",
    "\n",
    "_5) Can AWS EMR be used as a viable cloud based Big Data platform_?\n"
   ]
  },
  {
   "cell_type": "markdown",
   "metadata": {},
   "source": [
    "### 2. Data Preparation"
   ]
  },
  {
   "cell_type": "markdown",
   "metadata": {},
   "source": [
    "This phase was more data engineering than data preparation as it included writing configuration & bootstrap scripts for AWS EMR, building conda packages for the python libraries that were not available in default conda repositories such as Gutenberg library. \n",
    "\n",
    "The main source of data for this project was Gutenberg site with public domain eBooks in the text format."
   ]
  },
  {
   "cell_type": "markdown",
   "metadata": {},
   "source": [
    "#### 2.1 Project Gutenberg"
   ]
  },
  {
   "cell_type": "markdown",
   "metadata": {},
   "source": [
    "Project Gutenberg (http://www.gutenberg.org) at the time of this project offers more than 50,000 eBooks in different languages available for download in different file formats.This project however is focused on books written in English and in plain text form. The first challenge therefore was to identify and download all the books written in English in plain text form.\n",
    "\n",
    "Project Gutenberg website clearly states on the main page that :\n",
    "\n",
    "_**The Project Gutenberg website is for human users only. Any real or perceived use of automated tools to access our site will result in a block of your IP address**_"
   ]
  },
  {
   "cell_type": "markdown",
   "metadata": {},
   "source": [
    "#### 2.2 Robot Site Access"
   ]
  },
  {
   "cell_type": "markdown",
   "metadata": {},
   "source": [
    "\n",
    "On more investigation I found some information on Gutenberg website on how to download data as via robot at the following URL.\n",
    "\n",
    "http://www.gutenberg.org/wiki/Gutenberg%3aInformation_About_Robot_Access_to_our_Pages\n",
    "\n",
    "The information given on this page allows wget based data access by using the following command.\n",
    "\n",
    "**wget -w 2 -m -H \"http://www.gutenberg.org/robot/harvest?filetypes[]=html\"**\n",
    "\n",
    "I created a bash shell script and used it to download the data on my local machine however on executing this script I got following error.\n",
    "\n",
    "\n",
    "\n",
    "_Resolving www.gutenberg.org (www.gutenberg.org)... 152.19.134.47_\n",
    "\n",
    "_Connecting to www.gutenberg.org (www.gutenberg.org)|152.19.134.47|:80... connected._\n",
    "\n",
    "_HTTP request sent, awaiting response... 403 Forbidden_\n",
    "\n",
    "I searched online if others have come across the same problem and found a number of different sites listing that many other users have come across the same problem. I also tried some of the suggestions but none of them worked.\n",
    "\n",
    "My next instinct was to mirror the project and then host it behind a local version of Apache Webserver and use BeautifulSoup4 or wget to retrieve the data. The Gutenberg website has provided a rsync based method to clone the whole site http://www.gutenberg.org/wiki/Gutenberg:Mirroring_How-To.\n",
    "\n",
    "I used the following command to download the main collection.\n",
    "\n",
    "**rsync -av --del ftp@ftp.ibiblio.org::gutenberg gutenberglocal**\n",
    "\n",
    "where gutenberglocal  is the directory created to hold all the site content. This worked fine but could only download 25GB of 650GB in one day due slow network connection which meant finding another way to download the data fortunately http://pgiso.pglaf.org/ provides a way to download the data.\n",
    "\n",
    "The site requires range of eText numbers to be entered in a form before it can create an ISO image to be downloaded.\n",
    "\n",
    "I therefore first wrote a script to read catalog in MARC format to find all books available in English language."
   ]
  },
  {
   "cell_type": "markdown",
   "metadata": {},
   "source": [
    "_The following import section is common for the whole notebook._"
   ]
  },
  {
   "cell_type": "code",
   "execution_count": 385,
   "metadata": {
    "collapsed": false
   },
   "outputs": [],
   "source": [
    "%matplotlib inline\n",
    "import sys\n",
    "import re\n",
    "import os\n",
    "import csv\n",
    "import codecs\n",
    "import string\n",
    "import json\n",
    "import boto\n",
    "import pattern\n",
    "import pandas as pd\n",
    "import seaborn as sns\n",
    "import numpy as np\n",
    "import scipy as sp\n",
    "import nltk as nl\n",
    "import matplotlib as mpl\n",
    "import matplotlib.cm as cm\n",
    "import matplotlib.pyplot as plt\n",
    "from matplotlib.colors import ListedColormap\n",
    "from bs4 import BeautifulSoup\n",
    "from pymarc import MARCReader\n",
    "from gutenberg.cleanup import strip_headers\n",
    "from nltk.tokenize import word_tokenize\n",
    "from boto.s3.key import Key\n",
    "from pyspark.sql import SQLContext\n",
    "from nltk.corpus import stopwords\n",
    "from nltk.stem import WordNetLemmatizer\n",
    "from Levenshtein._levenshtein import distance\n",
    "from sklearn.grid_search import GridSearchCV\n",
    "from sklearn.feature_extraction.text import CountVectorizer\n",
    "from sklearn.naive_bayes import MultinomialNB\n",
    "from sklearn.cross_validation import train_test_split\n",
    "from sklearn.metrics import confusion_matrix\n",
    "from sklearn.metrics import roc_curve, auc\n",
    "from sklearn.metrics import classification_report\n",
    "from sklearn import svm"
   ]
  },
  {
   "cell_type": "code",
   "execution_count": 386,
   "metadata": {
    "collapsed": false
   },
   "outputs": [],
   "source": [
    "#Configure Pandas and Seaborne\n",
    "sns.set_style(\"whitegrid\")\n",
    "sns.set_context(\"poster\")\n",
    "pd.set_option('display.width', 500)\n",
    "pd.set_option('display.max_columns', 100)\n",
    "pd.set_option('display.notebook_repr_html', True)\n",
    "mpl.style.use('ggplot')\n",
    "#pd.options.display.mpl_style = 'default' "
   ]
  },
  {
   "cell_type": "markdown",
   "metadata": {},
   "source": [
    "#### 2.3 Machine Readable Catalog Reader"
   ]
  },
  {
   "cell_type": "markdown",
   "metadata": {},
   "source": [
    "Gutenberg website also maintains catalogs in machine readable formats that can be used to create a database of the books available via the project. The catalogs are available at the following URL http://gutenberg.pglaf.org/cache/generated/feeds/\n",
    "\n",
    "in Resource Description Format(RDF) and MARC 21 formats. MARC 21 format is a machine readable format for communicating bibliographic and related information. I used the catalog.marc.bz2 file downloaded from aforementioned website and **pymarc** (Library to read MARC 21 files) to create a script that takes catalog.marc file as input to create marcs.csv file and also prints out the eText range for Gutenberg files. In order to write this script one needs to understand the fields in MARC 21. I studied the format given at http://www.loc.gov/marc/.\n",
    "The source code is as given under:"
   ]
  },
  {
   "cell_type": "code",
   "execution_count": 387,
   "metadata": {
    "collapsed": false
   },
   "outputs": [
    {
     "name": "stdout",
     "output_type": "stream",
     "text": [
      "Minimum eText is:1\n",
      "Mazimum eText is:45398\n"
     ]
    }
   ],
   "source": [
    "#Language of interest\n",
    "LANGUAGE = \"eng\"\n",
    "#Constants for MARC File format\n",
    "LANGUAGE_RECORD_FIELD = '008'\n",
    "URI_RECORD_FIELD = '856'\n",
    "LANGUAGE_CODE_START_INDEX = 41\n",
    "LANGUAGE_CODE_END_INDEX = 44\n",
    "\n",
    "\n",
    "#Function : clean_metadata\n",
    "#Purpose : Function to clean metadata records\n",
    "#          Removes special characeters\n",
    "def clean_metadata(raw):\n",
    "    if raw is not None:\n",
    "        pattern = '[^a-zA-Z0-9 ]'\n",
    "        prog = re.compile(pattern)\n",
    "        cleaned = prog.sub('', raw)\n",
    "        return cleaned\n",
    " \n",
    "\n",
    "#Function : get_metadata\n",
    "#Purpose : Function to retrieve metadata from MARC record\n",
    "def get_metadata(record):\n",
    "    #Get language :MARC Code 008        \n",
    "    language_record = str(record[LANGUAGE_RECORD_FIELD])\n",
    "    if language_record is not None:\n",
    "        if len(language_record) > LANGUAGE_CODE_END_INDEX:\n",
    "            language_code = language_record[LANGUAGE_CODE_START_INDEX:LANGUAGE_CODE_END_INDEX]\n",
    "            #Only proceed if language is language of interest\n",
    "            if(language_code == LANGUAGE):\n",
    "                #Find URI to access file: MARC Code 856\n",
    "                url = str(record[URI_RECORD_FIELD]['u'])\n",
    "                title = record.title()\n",
    "                if title is None:\n",
    "                    title = \"Unknown\"\n",
    "                author = record.author()\n",
    "                if author is None:\n",
    "                    author = \"Unknown\"\n",
    "                title = clean_metadata(title.encode('utf-8'))\n",
    "                author = clean_metadata(author.encode('utf-8'))\n",
    "                return (title,author,url)\n",
    "\n",
    "#Function : get_etext_number\n",
    "#Purpose : Given metadata, retrieves the eText number of the book\n",
    "def get_etext_number(metadata):\n",
    "    if metadata is not None:\n",
    "        url = metadata[2]\n",
    "        filename = url[url.rindex('/')+1:]\n",
    "        return filename \n",
    " \n",
    "\n",
    "etexts = []\n",
    "#Remove previous marcs.csv if it exists\n",
    "if os.path.exists('marcs.csv'):\n",
    "    os.remove('marcs.csv')\n",
    "with open('marcs.csv', 'wb') as csvfile:\n",
    "    filewriter = csv.writer(csvfile)\n",
    "    with open('data/catalog.marc','r') as fh:\n",
    "        reader = MARCReader(fh)\n",
    "        for record in reader:\n",
    "            #Get metadata for the book\n",
    "            metadata = get_metadata(record)\n",
    "            if metadata is not None:\n",
    "                filewriter.writerow([metadata[1],metadata[0],metadata[2]])\n",
    "            etext = get_etext_number(metadata)\n",
    "            if etext is not None:\n",
    "                etexts.append(int(etext))       \n",
    "\n",
    "print \"Minimum eText is:\"+ str(min(etexts))\n",
    "print \"Mazimum eText is:\"+ str(max(etexts))\n"
   ]
  },
  {
   "cell_type": "markdown",
   "metadata": {},
   "source": [
    "The marcs.csv file generated by reading catalog in MARCS format allows one to get to any book by any author using a web browser. Theoretically this database can be fed into a python script using urllib and urllib2 modules to download this data on the local filesystem. However when I tried to download the files using this urllib script this was refused by the Gutenberg website as well. It makes sense as it is a portal being maintained by donations on a limited resource infrastructure so bots accessing it frequently will put unwarranted load on Gutenberg server/servers.    "
   ]
  },
  {
   "cell_type": "markdown",
   "metadata": {},
   "source": [
    "#### 2.4 Project Gutenberg Custom ISO Creator"
   ]
  },
  {
   "cell_type": "markdown",
   "metadata": {},
   "source": [
    "Project Gutenberg Custom ISO Creator is a beta project at the time of this project and can be accessed at \n",
    "http://pgiso.pglaf.org/.\n",
    "\n",
    "It basically takes a user query and generates an ISO file to be burnt on DVD with files meeting that query. We can use the eText range obtained by MARC catalog reader script given in the previous step to form my query for downloading the English language books in text format. This is likely to include all English books written until 2014 as that's when the MARCS 21 file for gutenberg was last modified."
   ]
  },
  {
   "cell_type": "markdown",
   "metadata": {},
   "source": [
    "<img src=\"images/pglaf_website.jpg\" height=\"233\" width=\"500\">"
   ]
  },
  {
   "cell_type": "markdown",
   "metadata": {},
   "source": [
    "When **Add These ETexts** button is pressed followed by **Create ISO** button the next screen prompts to give user email address.We used a **Single-page index file** option. Once the ISO is prepared an email is dispatched by the system to the email address given by the user. This email contains the link to the ISO created by the system.\n"
   ]
  },
  {
   "cell_type": "markdown",
   "metadata": {},
   "source": [
    "#### 2.5 ISO to AWS S3"
   ]
  },
  {
   "cell_type": "markdown",
   "metadata": {},
   "source": [
    "Next I launched an EMR cluster on AWS and used wget to download the data from link received in email from pgiso system of Project Gutenberg. I also created S3 bucket to store all the raw data and data generated from modelling and analysis steps. In order to copy raw data I configured **awscli** on local machine.\n",
    "\n",
    "The script to create AWS EMR and the associated configuration file (script/spark-conf.json) is available in the script subdirectory of the project. The _install-anaconda_ script needs to be copied to the S3 bucket and the name of the S3 bucket should be added in the _create-emr-cluster script_ available in the scripts directory.\n",
    "\n",
    "Once the cluster is launched one can find the public DNS name of the master node and ssh into the master to download the data.\n",
    "\n",
    "On EC2 shell of the master  I used:\n",
    "\n",
    "**wget -c -O Englishbooks.iso \"link received in pgiso email\"**\n",
    "\n",
    "Now one can mount this image and copy the data to S3 bucket using the following commands.\n",
    "\n",
    "1. sudo mkdir -p /mnt/disk\n",
    "2. mount -o loop EnglishBooks.iso /mnt/disk\n",
    "3. cd /mnt/disk/cache\n",
    "4. aws s3 cp generated s3://cs109-gutenberg/raw --recursive\n",
    "\n",
    "These aforementioned steps copied all the data to s3 bucket named cs109-gutenberg.The ISO image created by Gutenberg also contains an **index.htm** file with list of all files. If opened in browser the structure of the index\n",
    "\n",
    "\n"
   ]
  },
  {
   "cell_type": "markdown",
   "metadata": {},
   "source": [
    "<img src=\"images/pglaf_index_file.jpg\" >"
   ]
  },
  {
   "cell_type": "markdown",
   "metadata": {},
   "source": [
    "This is semistructured html data that I needed to convert into a structured CSV format. I wrote the following python utility script to convert index.htm to csv file. "
   ]
  },
  {
   "cell_type": "markdown",
   "metadata": {},
   "source": [
    "#### 2.6 Index.htm to CSV"
   ]
  },
  {
   "cell_type": "markdown",
   "metadata": {},
   "source": [
    "Please note that complete script is given in scripts/pgindextocsv.py and accepts the base url as input argument. Base URL should be the DNS based name of S3 bucket. The code below is extracted from pgindextocsv to demonstrate the creation of CSV file containing information about books and authors.\n",
    "\n",
    "Since we copied the files in raw folder on S3 we should use the pgindextocsv as follows on shell:\n",
    "\n",
    "**./pgindextocsv.py ../data/index.htm raw**\n",
    "\n",
    "This will create the correct URLs in pgindex.csv for files in the S3 bucket."
   ]
  },
  {
   "cell_type": "code",
   "execution_count": 388,
   "metadata": {
    "collapsed": true
   },
   "outputs": [],
   "source": [
    "#Utility script to convert Gutenberg data index file to CSV\n",
    "#Gutenberg data when downloaded from pgiso.pglaf.org comes with\n",
    "#index file containing metadata about downloaded eBooks\n",
    "#This utility script converts that metadata into CSV format\n",
    "\n",
    "#Function : get_book_name\n",
    "#Purpose : Retrieves book name from the raw text\n",
    "def get_book_name(raw):\n",
    "    if raw is not None:\n",
    "        pattern = '[^a-zA-Z0-9_ ]'\n",
    "        prog = re.compile(pattern)\n",
    "        raw = prog.sub('', raw)\n",
    "        return raw\n",
    "    else:\n",
    "        return \"Unknown\"\n",
    "\n",
    "#Function : get_author_name\n",
    "#Purpose : Retrieves author's first and last name from the raw text\n",
    "def get_author_name(raw):\n",
    "    if raw is not None:\n",
    "        raw = raw.replace(';',',')\n",
    "        pattern = '[^a-zA-Z, ]'\n",
    "        prog = re.compile(pattern)\n",
    "        raw = prog.sub('',raw)\n",
    "        raw = raw.strip()\n",
    "        names = raw.strip(',')\n",
    "        names = names.split(',')\n",
    "        if len(names)>1:\n",
    "            return names[1]+ \" \" + names[0]\n",
    "        elif len(names)==1:\n",
    "            return names[0]\n",
    "    else:\n",
    "        return \"Unknown\"\n",
    "\n",
    "#Function : get_modified_url\n",
    "#Purpose  : If user provides custom base url add that to \n",
    "#           file name\n",
    "def get_modified_url(original,custom_base):\n",
    "    url_parts = original.split('/')\n",
    "    return custom_base + '/' + url_parts[2] + '/' + url_parts[3]\n",
    "\n",
    "\n",
    "#Function : get_book_records\n",
    "#Purpose : Function to retrieve book record\n",
    "def get_book_records(file,base_url=None):\n",
    "    book_records = []\n",
    "    url = \"\"\n",
    "    author_name = \"\"\n",
    "    book_name = \"\"\n",
    "    try:\n",
    "        fh_index_file = codecs.open(file,'r','utf-8')\n",
    "        index_data = fh_index_file.read()\n",
    "    except IOError as e:\n",
    "        print \"I/O Error\".format(e.errno, e.strerror)\n",
    "        sys.exit(2)\n",
    "    soup = BeautifulSoup(index_data,'html.parser')\n",
    "    for link in soup.find_all('a',href=True):\n",
    "        #skip useless links\n",
    "        if link['href'] == '' or link['href'].startswith('#'):\n",
    "            continue\n",
    "        url = link.string\n",
    "        if base_url is not None:\n",
    "            url = get_modified_url(url,base_url)   \n",
    "        etext = link.find_previous_sibling('font',text='EText-No.').next_sibling\n",
    "        book_name = get_book_name(link.find_previous_sibling('font',text='Title:').next_sibling)\n",
    "        author_name=get_author_name(link.find_previous_sibling('font',text='Author:').next_sibling)\n",
    "        book_records.append({'etext':etext,'author':author_name,'book':book_name,'url':url})\n",
    "    return book_records\n",
    "\n",
    "#Function : write_csv_file\n",
    "#Purpose : Writes book records to csv file\n",
    "def write_csv_file(book_records):\n",
    "    if os.path.exists('data/pgindex.csv'):\n",
    "        os.remove('data/pgindex.csv')\n",
    "    with open('data/pgindex.csv', 'w') as csvfile:\n",
    "        fieldnames = ['etext', 'author','book','url']\n",
    "        writer = csv.DictWriter(csvfile, fieldnames=fieldnames)\n",
    "        writer.writeheader()\n",
    "        for record in book_records:\n",
    "            writer.writerow(record)\n",
    "\n",
    "\n",
    "\n",
    "book_records_ = get_book_records('data/index.htm')\n",
    "write_csv_file(book_records_)\n",
    "\n"
   ]
  },
  {
   "cell_type": "markdown",
   "metadata": {},
   "source": [
    "#### 2.7 Removing duplicate author names"
   ]
  },
  {
   "cell_type": "markdown",
   "metadata": {},
   "source": [
    "One of the problems is that in Gutenberg catalog same author is added with different spellings of the name. This is removed by measuring the **Levenshtein distance** between the names. If the distance is 1 there is a string likelihood that the books are by the same author."
   ]
  },
  {
   "cell_type": "code",
   "execution_count": 389,
   "metadata": {
    "collapsed": false
   },
   "outputs": [
    {
     "data": {
      "text/html": [
       "<div>\n",
       "<table border=\"1\" class=\"dataframe\">\n",
       "  <thead>\n",
       "    <tr style=\"text-align: right;\">\n",
       "      <th></th>\n",
       "      <th>first</th>\n",
       "      <th>second</th>\n",
       "    </tr>\n",
       "  </thead>\n",
       "  <tbody>\n",
       "    <tr>\n",
       "      <th>0</th>\n",
       "      <td>Geoffrey Chaucer</td>\n",
       "      <td>Jeffrey Chaucer</td>\n",
       "    </tr>\n",
       "    <tr>\n",
       "      <th>1</th>\n",
       "      <td>Albrecht Duerer</td>\n",
       "      <td>Albrecht Durer</td>\n",
       "    </tr>\n",
       "    <tr>\n",
       "      <th>2</th>\n",
       "      <td>Michel de Montagne</td>\n",
       "      <td>Michel de Montaigne</td>\n",
       "    </tr>\n",
       "    <tr>\n",
       "      <th>3</th>\n",
       "      <td>Miguel De Cervantes Saavedra</td>\n",
       "      <td>Miguel de Cervantes Saavedra</td>\n",
       "    </tr>\n",
       "    <tr>\n",
       "      <th>4</th>\n",
       "      <td>Edmund Spencer</td>\n",
       "      <td>Edmund Spenser</td>\n",
       "    </tr>\n",
       "  </tbody>\n",
       "</table>\n",
       "</div>"
      ],
      "text/plain": [
       "                           first                         second\n",
       "0               Geoffrey Chaucer                Jeffrey Chaucer\n",
       "1                Albrecht Duerer                 Albrecht Durer\n",
       "2             Michel de Montagne            Michel de Montaigne\n",
       "3   Miguel De Cervantes Saavedra   Miguel de Cervantes Saavedra\n",
       "4                 Edmund Spencer                 Edmund Spenser"
      ]
     },
     "execution_count": 389,
     "metadata": {},
     "output_type": "execute_result"
    }
   ],
   "source": [
    "#Read pgindex file as dataframe\n",
    "df = pd.read_csv('data/pgindex.csv')\n",
    "#Many authors are same but are spelt differently\n",
    "#It is therefore important to find the authors with similar names\n",
    "#Levenshtein distance can be used to find the difference between two strings\n",
    "authors_distance = []\n",
    "df2 = df.sort_values(['author'])\n",
    "author_list = df2['author']\n",
    "index_range = range(len(author_list))\n",
    "for i in index_range:\n",
    "    if (i+1 < len(author_list)):\n",
    "        distance_ = distance(str(author_list[i]),str(author_list[i+1]))\n",
    "        if (distance_ == 1) or (distance_ == 2):                           \n",
    "            authors_distance.append(dict(first=str(author_list[i]),second = str(author_list[i+1])))\n",
    "similar_names = pd.DataFrame(authors_distance)\n",
    "similar_names.to_csv('data/similar_names.csv')\n",
    "similar_names.head()\n"
   ]
  },
  {
   "cell_type": "code",
   "execution_count": 390,
   "metadata": {
    "collapsed": false
   },
   "outputs": [
    {
     "name": "stdout",
     "output_type": "stream",
     "text": [
      "519\n"
     ]
    }
   ],
   "source": [
    "print len(similar_names.index)"
   ]
  },
  {
   "cell_type": "markdown",
   "metadata": {},
   "source": [
    "The next step was to find the correct spellings via wikipedia and other sources and add another field called preferred.\n",
    "The name in the preferred field is the correct name. This step involves intensive manual labor as one needs to make sure that authors with similar names are not lumped together. I deleted the records with \"first\" and \"second\" containing two different authors with the same name. The end result is as shown below."
   ]
  },
  {
   "cell_type": "code",
   "execution_count": 391,
   "metadata": {
    "collapsed": false
   },
   "outputs": [
    {
     "data": {
      "text/html": [
       "<div>\n",
       "<table border=\"1\" class=\"dataframe\">\n",
       "  <thead>\n",
       "    <tr style=\"text-align: right;\">\n",
       "      <th></th>\n",
       "      <th>first</th>\n",
       "      <th>second</th>\n",
       "      <th>preferred</th>\n",
       "    </tr>\n",
       "  </thead>\n",
       "  <tbody>\n",
       "    <tr>\n",
       "      <th>0</th>\n",
       "      <td>adolf streckfuss</td>\n",
       "      <td>adolph streckfuss</td>\n",
       "      <td>adolf streckfuss</td>\n",
       "    </tr>\n",
       "    <tr>\n",
       "      <th>1</th>\n",
       "      <td>aischylos</td>\n",
       "      <td>aeschylus</td>\n",
       "      <td>aeschylus</td>\n",
       "    </tr>\n",
       "    <tr>\n",
       "      <th>2</th>\n",
       "      <td>albert r teichner</td>\n",
       "      <td>albert teichner</td>\n",
       "      <td>albert teichner</td>\n",
       "    </tr>\n",
       "    <tr>\n",
       "      <th>3</th>\n",
       "      <td>albrecht duerer</td>\n",
       "      <td>albrecht durer</td>\n",
       "      <td>albrecht durer</td>\n",
       "    </tr>\n",
       "    <tr>\n",
       "      <th>4</th>\n",
       "      <td>alexander hewat</td>\n",
       "      <td>alexander hewatt</td>\n",
       "      <td>alexander hewat</td>\n",
       "    </tr>\n",
       "  </tbody>\n",
       "</table>\n",
       "</div>"
      ],
      "text/plain": [
       "               first             second         preferred\n",
       "0   adolf streckfuss  adolph streckfuss  adolf streckfuss\n",
       "1          aischylos          aeschylus         aeschylus\n",
       "2  albert r teichner    albert teichner   albert teichner\n",
       "3    albrecht duerer     albrecht durer    albrecht durer\n",
       "4    alexander hewat   alexander hewatt   alexander hewat"
      ]
     },
     "execution_count": 391,
     "metadata": {},
     "output_type": "execute_result"
    }
   ],
   "source": [
    "df_similar_authors = pd.read_csv('data/corrected_author_names.csv')\n",
    "df_similar_authors.head()"
   ]
  },
  {
   "cell_type": "markdown",
   "metadata": {},
   "source": [
    "The next step in cleaning is to put back the correct name in the original dataframe. "
   ]
  },
  {
   "cell_type": "code",
   "execution_count": 392,
   "metadata": {
    "collapsed": false
   },
   "outputs": [],
   "source": [
    "# Read the original file\n",
    "df = pd.read_csv('data/pgindex.csv')\n",
    "df_out = df.copy()\n",
    "index_range = range(len(df_similar_authors.index))\n",
    "first_entry = df_similar_authors['first'].values\n",
    "second_entry = df_similar_authors['second'].values\n",
    "preferred_entry = df_similar_authors['preferred'].values\n",
    "#Replace first choice \n",
    "for i in index_range:\n",
    "    df_out.loc[df_out.author == first_entry[i],'author'] = preferred_entry[i]\n",
    "    df_out.loc[df_out.author == second_entry[i],'author'] = preferred_entry[i]\n",
    "\n",
    "#Remove duplicate rows\n",
    "df_final = df_out.drop_duplicates(['etext'])\n",
    "#Save as CSV\n",
    "df_final.to_csv('data/corrected_pgindex.csv')\n"
   ]
  },
  {
   "cell_type": "code",
   "execution_count": 393,
   "metadata": {
    "collapsed": false
   },
   "outputs": [
    {
     "data": {
      "text/plain": [
       "<pyspark.broadcast.Broadcast at 0x7f640385b450>"
      ]
     },
     "execution_count": 393,
     "metadata": {},
     "output_type": "execute_result"
    }
   ],
   "source": [
    "df_clean = pd.DataFrame.from_csv('data/corrected_pgindex.csv')\n",
    "#Broadcast df_clean dataframe\n",
    "sc.broadcast(df_clean)"
   ]
  },
  {
   "cell_type": "code",
   "execution_count": 394,
   "metadata": {
    "collapsed": false
   },
   "outputs": [],
   "source": [
    "#Find authors that are agencies and/or anonymous\n",
    "df_unwanted_authors =df_clean[df_clean[\"author\"].str.contains('agency',na=False) \n",
    "                              | df_clean[\"author\"].str.contains('presidents',na=False) \n",
    "                              | df_clean[\"author\"].str.contains('various',na=False)\n",
    "                              | df_clean[\"author\"].str.contains('anonymous',na=False)]\n",
    "unwanted_authors = df_unwanted_authors['author'].values\n",
    "            \n",
    "unwanted_authors = list(set(unwanted_authors))"
   ]
  },
  {
   "cell_type": "markdown",
   "metadata": {},
   "source": [
    "#### 2.8 Corpus Creation"
   ]
  },
  {
   "cell_type": "markdown",
   "metadata": {},
   "source": [
    "Now that we have all the files copied over to S3 and a CSV file containing records of all these files we can create our corpus. In this corpus each author should have just one document containing all his/her works. In order to create corpus we therefore need to concatenate books from each author together. I used python gutenberg library to strip Gutenberg header and footer from each book before adding them to the document. \n",
    "\n",
    "Corpus Creation requires a number of python libraries including:\n",
    "1. pandas\n",
    "2. gutenberg\n",
    "3. boto\n",
    "\n",
    "We need to launch Amazon EMR cluster with custom bootstrap to install and configure\n",
    "\n",
    "- Anaconda distribution of python and other libraries\n",
    "- gutenberg\n",
    "- boto\n",
    "\n",
    "The next step is to connect to the master node and launch Spark jobs to concatenate the books by each author.\n",
    "\n"
   ]
  },
  {
   "cell_type": "code",
   "execution_count": 395,
   "metadata": {
    "collapsed": false
   },
   "outputs": [],
   "source": [
    "#Get SQL Context\n",
    "sqlContext = SQLContext(sc)"
   ]
  },
  {
   "cell_type": "code",
   "execution_count": 396,
   "metadata": {
    "collapsed": false
   },
   "outputs": [
    {
     "data": {
      "text/plain": [
       "DataFrame[etext: bigint, author: string, book: string, url: string]"
      ]
     },
     "execution_count": 396,
     "metadata": {},
     "output_type": "execute_result"
    }
   ],
   "source": [
    "#Convert Pandas data frame to Spark DataFrame and save in cache\n",
    "sdf = sqlContext.createDataFrame(df_clean)\n",
    "sdf.cache()"
   ]
  },
  {
   "cell_type": "code",
   "execution_count": 24,
   "metadata": {
    "collapsed": false
   },
   "outputs": [],
   "source": [
    "#Create Corpus\n",
    "#IMPORTANT: This step requires raw data in a bucket on S3\n",
    "#S3 Bucket name storing raw Gutenberg English books\n",
    "S3_BUCKET_NAME = 'cs109-gutenberg'\n",
    "#Connect with S3\n",
    "s3 = boto.connect_s3()\n",
    "bucket = s3.get_bucket(S3_BUCKET_NAME)\n",
    "sc.broadcast(bucket)\n",
    "def get_author_book_pair(key):\n",
    "    \"\"\"\n",
    "    Convert Gutenberg books in txt format to author book pair.\n",
    "    :param key: An s3 key path string.\n",
    "    :return: A tuple (author, book_contents) where book_contents is the contents of the \n",
    "        book in a string with gutenberg header and footer removed. \n",
    "    \"\"\"\n",
    "    s_key = str(key).strip()\n",
    "    contents = key.get_contents_as_string()\n",
    "    if contents is not None:\n",
    "        contents = unicode(contents, 'utf-8')\n",
    "        book = strip_headers(contents).strip()\n",
    "        #Remove special characters and digits\n",
    "        pattern = '[^\\w+.\\s+,:;?\\'-]'\n",
    "        prog = re.compile(pattern,re.UNICODE)\n",
    "        document = prog.sub('',document)\n",
    "        document = re.sub(\" \\d+ |\\d+.\",'', document)\n",
    "        #Find the author for this book\n",
    "        #This portion requires refactoring(nan authors)\n",
    "        start_index = s_key.find(',')\n",
    "        if start_index != -1:     \n",
    "            s_key = s_key[s_key.find(',')+1:len(s_key)-1].lower()\n",
    "        result = df_clean[df_clean['url'].str.strip() == s_key]\n",
    "        if(len(result) == 0):\n",
    "            s_key = s_key+\".utf8\"\n",
    "            result = df_clean[df_clean['url'].str.strip() == s_key]\n",
    "        if(len(result) == 0):\n",
    "            author = \"Unknown\"\n",
    "        else:\n",
    "            author = str(result['author'].iloc[0])\n",
    "        author = author.replace(' ','_')\n",
    "    else:\n",
    "        author = \"Unknown\"\n",
    "        book = \"Unknown\"\n",
    "    return (author,book)\n",
    "\n",
    "def save_document_to_s3_corpus(author_books):\n",
    "    \"\"\"\n",
    "    Save the result of reduceByKey in S3\n",
    "    :param author_books: An tuple containing authorname and all his/her books content in text.\n",
    "    \"\"\"\n",
    "    key = bucket.get_key('corpus/'+author_books[0]+'.txt')\n",
    "    if key is None:\n",
    "        #Create the key\n",
    "        k = Key(bucket)\n",
    "        k.key = 'corpus/'+author_books[0]+'.txt'\n",
    "        k.set_contents_from_string(author_books[1])\n",
    "    else:\n",
    "        previous_contents = key.get_contents_as_string()\n",
    "        previous_contents = unicode(previous_contents, 'utf-8')\n",
    "        updated_document = previous_contents + author_books[1]\n",
    "        key.set_contents_from_string(updated_document)\n",
    "\n",
    "\n",
    "#Get All Keys\n",
    "keys = bucket.list(prefix = 'raw/')\n",
    "#Save the documents to S3\n",
    "rdd = sc.parallelize(keys).map(get_author_book_pair).reduceByKey(lambda x,y: x+y,200).foreach(save_document_to_s3_corpus)\n"
   ]
  },
  {
   "cell_type": "code",
   "execution_count": 397,
   "metadata": {
    "collapsed": false
   },
   "outputs": [],
   "source": [
    "#Clean the S3 corpus folders that contain works of unidentified authors\n",
    "# or multiple authors and agencies\n",
    "#S3 Bucket name storing raw Gutenberg English books\n",
    "S3_BUCKET_NAME = 'cs109-gutenberg'\n",
    "#Connect with S3\n",
    "s3 = boto.connect_s3()\n",
    "bucket = s3.get_bucket(S3_BUCKET_NAME)\n",
    "for key_suffix in unwanted_authors:    \n",
    "    key_ = Key(bucket)\n",
    "    key_suffix = key_suffix.replace(' ','_')\n",
    "    key_.key = 'corpus/'+key_suffix+'.txt'\n",
    "    bucket.delete_key(key_)\n"
   ]
  },
  {
   "cell_type": "markdown",
   "metadata": {},
   "source": [
    "Now we are at a stage where we can derive corpus of interest from the Gutenberg corpus. This corpus of interest shall contain works of the authors we are interested in for our authorship attribution model building."
   ]
  },
  {
   "cell_type": "code",
   "execution_count": 398,
   "metadata": {
    "collapsed": false
   },
   "outputs": [],
   "source": [
    "#Retrieve S3 Keys for selected authors\n",
    "S3_BUCKET_NAME = 'cs109-gutenberg'\n",
    "#Connect with S3\n",
    "s3 = boto.connect_s3()\n",
    "bucket = s3.get_bucket(S3_BUCKET_NAME)\n",
    "famous_authors = ['charles_dickens','william_shakespeare','jane_austen','james_joyce','mark_twain','oscar_wilde','edgar_allan_poe',\n",
    "                  'francis_bacon_st_albans','christopher_marlowe','joseph_conrad','agatha_christie','dh_lawrence']\n",
    "corpus_keys=[]\n",
    "url_prefix = 'corpus/'\n",
    "document_extension = '.txt'\n",
    "\n",
    "for author in famous_authors:\n",
    "    key = bucket.get_key(url_prefix+author+document_extension)\n",
    "    if key is not None:\n",
    "        corpus_keys.append(key)\n"
   ]
  },
  {
   "cell_type": "markdown",
   "metadata": {},
   "source": [
    "#### 2.9 Exploratory Data Analysis"
   ]
  },
  {
   "cell_type": "markdown",
   "metadata": {},
   "source": [
    "Once we have the corpus in S3 with each document named as author name and with contents containing all the works available in the corpus for that particular author, we can conduct some basic exploratory data analysis using this corpus."
   ]
  },
  {
   "cell_type": "markdown",
   "metadata": {},
   "source": [
    "#### 2.9.1 Find the authors with highest  _document size to corpus size_ ratios in percentage"
   ]
  },
  {
   "cell_type": "code",
   "execution_count": 399,
   "metadata": {
    "collapsed": false
   },
   "outputs": [],
   "source": [
    "# Find authors contribution to corpus size as percentage\n",
    "#S3 Bucket name storing raw Gutenberg English books\n",
    "S3_BUCKET_NAME = 'cs109-gutenberg'\n",
    "#Connect with S3\n",
    "s3 = boto.connect_s3()\n",
    "bucket = s3.get_bucket(S3_BUCKET_NAME)\n",
    "sc.broadcast(bucket)\n",
    "#Get All Keys (only to be used if the analysis is on the whole gutenberg corpus)\n",
    "#keys = bucket.list(prefix = 'corpus/')\n",
    "\n",
    "#Get total size\n",
    "corpus_size = 0\n",
    "for key in corpus_keys:\n",
    "    corpus_size = corpus_size + key.size\n",
    "\n",
    "\n",
    "def get_author_document_size(key):\n",
    "    \"\"\"\n",
    "    Compute document size for each document \n",
    "    :param key: An s3 key path string.\n",
    "    :return: A tuple (author, document_size)  \n",
    "    \"\"\"\n",
    "    s_key = str(key)\n",
    "    s_key = s_key[s_key.find('/')+1:-5]\n",
    "    percentage = (float(key.size)/corpus_size)\n",
    "    return (s_key,percentage)\n",
    "\n",
    "author_contribution = sc.parallelize(corpus_keys).map(get_author_document_size).collect()\n"
   ]
  },
  {
   "cell_type": "code",
   "execution_count": 400,
   "metadata": {
    "collapsed": false
   },
   "outputs": [],
   "source": [
    "df_author_contribution = pd.DataFrame(author_contribution,columns=['author','contribution'])"
   ]
  },
  {
   "cell_type": "code",
   "execution_count": 401,
   "metadata": {
    "collapsed": false
   },
   "outputs": [
    {
     "name": "stdout",
     "output_type": "stream",
     "text": [
      "                     author  contribution\n",
      "1       william_shakespeare      0.228031\n",
      "0           charles_dickens      0.205405\n",
      "2               jane_austen      0.149344\n",
      "4                mark_twain      0.141431\n",
      "9             joseph_conrad      0.103614\n",
      "6           edgar_allan_poe      0.036440\n",
      "11              dh_lawrence      0.033794\n",
      "3               james_joyce      0.033762\n",
      "5               oscar_wilde      0.030894\n",
      "8       christopher_marlowe      0.027254\n",
      "10          agatha_christie      0.005999\n",
      "7   francis_bacon_st_albans      0.004033\n"
     ]
    }
   ],
   "source": [
    "df_author_contribution = df_author_contribution.sort_values('contribution',ascending=False)\n",
    "print df_author_contribution\n",
    "\n",
    "#Save as CSV\n",
    "df_author_contribution.to_csv('data/author_contribution.csv')"
   ]
  },
  {
   "cell_type": "markdown",
   "metadata": {},
   "source": [
    "This means that Shakespeare and Dickens  constitute almost 42% of our corpus. Please note that this percentage is in our corpus size and not of Gutenberg in all."
   ]
  },
  {
   "cell_type": "markdown",
   "metadata": {},
   "source": [
    "#### 2.9.2 Find vocabulary richness ratio (VRR)"
   ]
  },
  {
   "cell_type": "markdown",
   "metadata": {},
   "source": [
    "Next we would like to find out richness of vocabulary for each author. We should remove all the stop words and find total number of words in each author's works. The richness is not computed in terms of absolute vocabulary size but is instead computed as ratio of unique words to total words(excluding stop words) as percentage. VRR is also known as lexical richness."
   ]
  },
  {
   "cell_type": "markdown",
   "metadata": {},
   "source": [
    "First of all we need to install stopwords corpus of nltk on AWS EMR Master node.\n",
    "In order to accomplish that we need to ssh into the Master node and run the following command.\n",
    "\n",
    "*sudo /home/hadoop/anaconda2/bin/python -m nltk.downloader -d /usr/share/nltk_data stopwords*"
   ]
  },
  {
   "cell_type": "code",
   "execution_count": 402,
   "metadata": {
    "collapsed": false
   },
   "outputs": [
    {
     "data": {
      "text/plain": [
       "<pyspark.broadcast.Broadcast at 0x7f640385b4d0>"
      ]
     },
     "execution_count": 402,
     "metadata": {},
     "output_type": "execute_result"
    }
   ],
   "source": [
    "#Broadcast stopwords and lemmatizer to all nodes (Approximately 127 stop words)\n",
    "stopwords_ = stopwords.words('english')\n",
    "sc.broadcast(stopwords_)\n",
    "#Broadcast WordNetLemmatizer()\n",
    "wordnet_lemmatizer_ = WordNetLemmatizer()\n",
    "sc.broadcast(wordnet_lemmatizer_)"
   ]
  },
  {
   "cell_type": "code",
   "execution_count": 403,
   "metadata": {
    "collapsed": false
   },
   "outputs": [],
   "source": [
    "# Find Vocabulary Richness Ratio(VRR)\n",
    "# These words will not include stop words\n",
    "\n",
    "def get_author_vrr_pair(key):\n",
    "    \"\"\"\n",
    "    Find ratio of unique words to toal words used by each author \n",
    "    :param key: An s3 key path string.\n",
    "    :return: A tuple (author, vrr)  \n",
    "    \"\"\"\n",
    "    s_key = str(key)\n",
    "    s_key = s_key[s_key.find('/')+1:-5]\n",
    "    contents = key.get_contents_as_string()\n",
    "    vocab_richness_ratio = 0.0\n",
    "    if contents is not None:\n",
    "        contents = unicode(contents, 'utf-8')\n",
    "        prog = re.compile('[\\t\\n\\r\\f\\v\\d\\']',re.UNICODE)\n",
    "        contents = re.sub(prog,' ',contents).lower()\n",
    "        #Remove punctuations\n",
    "        prog=re.compile('[!\\\"#$%&\\'()*+\\,-./:;<=>?@[\\]^_`{|}~]',re.UNICODE)\n",
    "        contents = re.sub(prog,' ',contents)\n",
    "        words = word_tokenize(contents)\n",
    "        #Remove stop words lemmatize and remove punctuations\n",
    "        #Also remove noisy single alphabets\n",
    "        vocab = []\n",
    "        for word in words:\n",
    "            word=word.strip()\n",
    "            if len(word)>1:\n",
    "                if word not in stopwords_:\n",
    "                    vocab.append(wordnet_lemmatizer_.lemmatize(word))\n",
    "        #Size of vocabulary\n",
    "        vocab_size = len(vocab)\n",
    "        unique_vocab = list(set(vocab))\n",
    "        unique_vocab_size = len(unique_vocab)\n",
    "        vocab_richness_ratio =  float(unique_vocab_size)/vocab_size\n",
    "    return (s_key,vocab_richness_ratio)\n",
    "\n",
    "author_vrr = sc.parallelize(corpus_keys).map(get_author_vrr_pair).collect()"
   ]
  },
  {
   "cell_type": "code",
   "execution_count": 404,
   "metadata": {
    "collapsed": false
   },
   "outputs": [],
   "source": [
    "df_author_vrr = pd.DataFrame(author_vrr,columns=['author','vrr'])\n",
    "df_author_vrr = df_author_vrr.sort_values('vrr',ascending=False)\n",
    "#Save as CSV\n",
    "df_author_vrr.to_csv('data/author_vrr.csv')"
   ]
  },
  {
   "cell_type": "code",
   "execution_count": 405,
   "metadata": {
    "collapsed": false
   },
   "outputs": [
    {
     "name": "stdout",
     "output_type": "stream",
     "text": [
      "                     author       vrr  contribution\n",
      "0   francis_bacon_st_albans  0.335035      0.004033\n",
      "1           agatha_christie  0.157540      0.005999\n",
      "2               james_joyce  0.131956      0.033762\n",
      "3       christopher_marlowe  0.101739      0.027254\n",
      "4               oscar_wilde  0.092596      0.030894\n",
      "5           edgar_allan_poe  0.086312      0.036440\n",
      "6               dh_lawrence  0.074107      0.033794\n",
      "7                mark_twain  0.036362      0.141431\n",
      "8             joseph_conrad  0.036255      0.103614\n",
      "9       william_shakespeare  0.024573      0.228031\n",
      "10          charles_dickens  0.023698      0.205405\n",
      "11              jane_austen  0.016693      0.149344\n"
     ]
    }
   ],
   "source": [
    "#Create a joint dataframe\n",
    "df_vrr_contribution = pd.merge(df_author_vrr, df_author_contribution, on=['author'])\n",
    "print df_vrr_contribution"
   ]
  },
  {
   "cell_type": "code",
   "execution_count": 406,
   "metadata": {
    "collapsed": false
   },
   "outputs": [
    {
     "data": {
      "text/plain": [
       "<matplotlib.figure.Figure at 0x7f63505ad3d0>"
      ]
     },
     "metadata": {},
     "output_type": "display_data"
    },
    {
     "data": {
      "image/png": "[encoded data removed]",
      "text/plain": [
       "<matplotlib.figure.Figure at 0x7f64177b5d50>"
      ]
     },
     "metadata": {},
     "output_type": "display_data"
    }
   ],
   "source": [
    "plt.figure()\n",
    "#Plot VRR and Contribution \n",
    "ax = df_vrr_contribution.plot(kind='barh',stacked=True,figsize=(12,8),colormap='Paired')\n",
    "c=ax.set_yticklabels(df_vrr_contribution.author)"
   ]
  },
  {
   "cell_type": "markdown",
   "metadata": {},
   "source": [
    "This graph shows somethig unexpected. The bars that have a lot more red and only a small proportion of blue (such as Jane Austen) mean that the corpus contains a lot of text from that particular author but there is a lot of repitition in usage of words. This could either mean that there is a lot of noisy data in the document or repitition of words."
   ]
  },
  {
   "cell_type": "markdown",
   "metadata": {},
   "source": [
    "#### 2.9.3 Word Frequency Distribution "
   ]
  },
  {
   "cell_type": "code",
   "execution_count": 407,
   "metadata": {
    "collapsed": false
   },
   "outputs": [],
   "source": [
    "#Remove  punctuations and compute word frequency\n",
    "#Compute Vocabulary\n",
    "def get_author_vocabulary(key):\n",
    "    \"\"\"\n",
    "    Find vocabulary of each author \n",
    "    :param key: An s3 key path string.\n",
    "    :return: A tuple (author, vocabulary list)  \n",
    "    \"\"\"\n",
    "    s_key = str(key)\n",
    "    s_key = s_key[s_key.find('/')+1:-5]\n",
    "    contents = key.get_contents_as_string()\n",
    "    vocab_richness_ratio = 0.0\n",
    "    if contents is not None:\n",
    "        contents = unicode(contents, 'utf-8')\n",
    "        prog = re.compile('[\\t\\n\\r\\f\\v\\d\\']',re.UNICODE)\n",
    "        contents = re.sub(prog,' ',contents).lower()\n",
    "        #Remove punctuations\n",
    "        prog=re.compile('[!\\\"#$%&\\'()*+\\,-./:;<=>?@[\\]^_`{|}~]',re.UNICODE)\n",
    "        contents = re.sub(prog,' ',contents)\n",
    "        words = word_tokenize(contents)\n",
    "        vocab = []\n",
    "        #Remove noisy single alphabets\n",
    "        for word in words:\n",
    "            word=word.strip()\n",
    "            if len(word)>1:\n",
    "                if word not in stopwords_:\n",
    "                    vocab.append(wordnet_lemmatizer_.lemmatize(word))\n",
    "        \n",
    "    return (s_key,vocab)\n",
    "\n",
    "author_vocabulary = sc.parallelize(corpus_keys).map(get_author_vocabulary).collect()"
   ]
  },
  {
   "cell_type": "code",
   "execution_count": 408,
   "metadata": {
    "collapsed": false
   },
   "outputs": [
    {
     "data": {
      "image/png": "[encoded data removed]",
      "text/plain": [
       "<matplotlib.figure.Figure at 0x7f63ab4ef150>"
      ]
     },
     "metadata": {},
     "output_type": "display_data"
    }
   ],
   "source": [
    "#Compute and Plot frequency distribution\n",
    "n_tuples = len(author_vocabulary)\n",
    "authors_index = range(n_tuples)\n",
    "all_words = []\n",
    "for i in authors_index:\n",
    "    all_words = all_words + author_vocabulary[i][1]\n",
    "f, axarr = plt.subplots(1, figsize=(12, 5))\n",
    "fdist = nl.FreqDist(all_words)\n",
    "\n",
    "fdist.plot(50,cumulative=False)"
   ]
  },
  {
   "cell_type": "markdown",
   "metadata": {},
   "source": [
    "The distribution almost resembles Zipf's distribution(as expected)."
   ]
  },
  {
   "cell_type": "markdown",
   "metadata": {},
   "source": [
    "### 3. Model Planning"
   ]
  },
  {
   "cell_type": "markdown",
   "metadata": {},
   "source": [
    "There are many diverse approaches employed by different researchers in authorship attribution, however in this project I decided to only use Bag of Words approach based on the assumption that every author has certain favourite words that he/she repeats in his/her written work.\n",
    "\n",
    "I also decided to give preference to Scikit Learn Toolkit for different machine learning algorithms as it offered more learning algorithms choice than offered by MLLib.\n"
   ]
  },
  {
   "cell_type": "markdown",
   "metadata": {},
   "source": [
    "#### 3.1 Utility Functions for Classification"
   ]
  },
  {
   "cell_type": "markdown",
   "metadata": {},
   "source": [
    "These functions are adapted from function used in lab 6 of CS109. Copyrights reserved with Harvard Extension school staff."
   ]
  },
  {
   "cell_type": "code",
   "execution_count": 457,
   "metadata": {
    "collapsed": true
   },
   "outputs": [],
   "source": [
    "#Generic utility function to perforn K-Fold cross validation \n",
    "# to find optimal parameters for a given classifier\n",
    "def cv_optimize(clf, parameters, X, y, n_jobs=1, n_folds=5, score_func=None):\n",
    "    if score_func:\n",
    "        gs = GridSearchCV(clf, param_grid=parameters, cv=n_folds, n_jobs=n_jobs, scoring=score_func)\n",
    "    else:\n",
    "        gs = GridSearchCV(clf, param_grid=parameters, n_jobs=n_jobs, cv=n_folds)\n",
    "    gs.fit(X, y)\n",
    "    print \"Best Parameters:\", gs.best_params_, gs.best_score_, gs.grid_scores_\n",
    "    best = gs.best_estimator_\n",
    "    return best\n",
    "\n",
    "#Generic utility function to classify given classifier, its parameters and features\n",
    "def do_classify(clf, parameters, x_train, y_train,x_test,y_test, score_func=None, n_folds=5, n_jobs=1):\n",
    "    if parameters:\n",
    "        clf = cv_optimize(clf, parameters, x_train, y_train, n_jobs=n_jobs, n_folds=n_folds, score_func=score_func)\n",
    "    clf=clf.fit(x_train, y_train)\n",
    "    training_accuracy = clf.score(x_train, y_train)\n",
    "    test_accuracy = clf.score(x_test, y_test)\n",
    "    \n",
    "    print \"Accuracy on training data: %0.2f\" % (training_accuracy)\n",
    "    print \"Accuracy on test data:     %0.2f\" % (test_accuracy)\n",
    "    #print confusion_matrix(y_test, clf.predict(x_test))#\n",
    "    return clf,x_train,x_test,y_train,y_test\n",
    "\n",
    "\n",
    "cmap_light = ListedColormap(['#FFAAAA', '#AAFFAA', '#AAAAFF'])\n",
    "cmap_bold = ListedColormap(['#FF0000', '#00FF00', '#0000FF'])\n",
    "cm = plt.cm.RdBu\n",
    "cm_bright = ListedColormap(['#FF0000', '#0000FF'])\n",
    "\n"
   ]
  },
  {
   "cell_type": "markdown",
   "metadata": {},
   "source": [
    "#### 3.2 Vocabulary Creation "
   ]
  },
  {
   "cell_type": "markdown",
   "metadata": {},
   "source": [
    "The first step is to build our vocabulary by using all unique words from the corpus"
   ]
  },
  {
   "cell_type": "code",
   "execution_count": 410,
   "metadata": {
    "collapsed": false
   },
   "outputs": [],
   "source": [
    "# Save Corpus and Compute Vocabulary\n",
    "def get_author_vocabulary_pair(key):\n",
    "    \"\"\"\n",
    "    Find vocabulary of each author \n",
    "    :param key: An s3 key path string.\n",
    "    :return: A tuple (author, vocabulary list)  \n",
    "    \"\"\"\n",
    "    s_key = str(key)\n",
    "    s_key = s_key[s_key.find('/')+1:-5]\n",
    "    contents = key.get_contents_as_string()\n",
    "    vocab_richness_ratio = 0.0\n",
    "    if contents is not None:\n",
    "        contents = unicode(contents, 'utf-8')\n",
    "        prog = re.compile('[\\t\\n\\r\\f\\v\\d\\']',re.UNICODE)\n",
    "        contents = re.sub(prog,' ',contents).lower()\n",
    "        #Remove punctuations\n",
    "        prog=re.compile('[!\\\"#$%&\\'()*+\\,-./:;<=>?@[\\]^_`{|}~]',re.UNICODE)\n",
    "        contents = re.sub(prog,' ',contents)\n",
    "        words = word_tokenize(contents)\n",
    "        #Remove stop words\n",
    "        vocab = []\n",
    "        for word in words:\n",
    "            word=word.strip()\n",
    "            if len(word)>1:\n",
    "                if word not in stopwords_:\n",
    "                    vocab.append(wordnet_lemmatizer_.lemmatize(word))\n",
    "        unique_vocab = list(set(vocab))        \n",
    "    return (s_key,unique_vocab)\n",
    "\n",
    "#Compute vocabulary text document without removing\n",
    "#unique words \n",
    "def get_author_document_pair(key):\n",
    "    \"\"\"\n",
    "    Return cleaned document of each author \n",
    "    :param key: An s3 key path string.\n",
    "    :return: A tuple (author, vocabulary list)  \n",
    "    \"\"\"\n",
    "    s_key = str(key)\n",
    "    s_key = s_key[s_key.find('/')+1:-5]\n",
    "    contents = key.get_contents_as_string()\n",
    "    if contents is not None:\n",
    "        contents = unicode(contents, 'utf-8')\n",
    "        prog = re.compile('[\\t\\n\\r\\f\\v\\d\\']',re.UNICODE)\n",
    "        contents = re.sub(prog,' ',contents).lower()\n",
    "        #Remove punctuations\n",
    "        prog=re.compile('[!\\\"#$%&\\'()*+\\,-./:;<=>?@[\\]^_`{|}~]',re.UNICODE)\n",
    "        contents = re.sub(prog,' ',contents)\n",
    "        words = word_tokenize(contents)\n",
    "        #Remove stop words and punctuations\n",
    "        vocab = []\n",
    "        for word in words:\n",
    "            word=word.strip()\n",
    "            if len(word)>1:\n",
    "                if word not in stopwords_:\n",
    "                    vocab.append(wordnet_lemmatizer_.lemmatize(word))\n",
    "        document = ' '.join(w for w in vocab)        \n",
    "    return (s_key,document)\n",
    "\n",
    "\n",
    "#Save corpus in S3 as JSON\n",
    "corpus_rdd = sc.parallelize(corpus_keys).map(get_author_document_pair) \n",
    "\n",
    "corpus_rdd.map(lambda x: json.dumps({\"author\":x[0],\"vocabulary\":x[1]})) \\\n",
    "    .saveAsTextFile('s3://'+S3_BUCKET_NAME+'/acorpus.json')\n",
    "\n",
    "#Find unique words by each author\n",
    "vocab_rdd = sc.parallelize(corpus_keys).map(get_author_vocabulary_pair)\n",
    "vocabulary = vocab_rdd.collect()\n"
   ]
  },
  {
   "cell_type": "code",
   "execution_count": 411,
   "metadata": {
    "collapsed": false
   },
   "outputs": [
    {
     "name": "stdout",
     "output_type": "stream",
     "text": [
      "                     author  vocabulary_size\n",
      "1       william_shakespeare            38092\n",
      "4                mark_twain            31478\n",
      "0           charles_dickens            29573\n",
      "3               james_joyce            29286\n",
      "9             joseph_conrad            23010\n",
      "6           edgar_allan_poe            18543\n",
      "5               oscar_wilde            17420\n",
      "8       christopher_marlowe            17154\n",
      "11              dh_lawrence            15742\n",
      "2               jane_austen            14266\n",
      "10          agatha_christie             5961\n",
      "7   francis_bacon_st_albans             5512\n"
     ]
    }
   ],
   "source": [
    "#Size of vocabulary for each author\n",
    "n_tuples = len(vocabulary)\n",
    "authors_index = range(n_tuples)\n",
    "author_vocabularysize_pairs = [(vocabulary[i][0],len(vocabulary[i][1])) for i in authors_index]\n",
    "df_author_vocabularysize_pairs=pd.DataFrame(author_vocabularysize_pairs,columns=['author','vocabulary_size'] )\n",
    "df_author_vocabularysize_pairs=df_author_vocabularysize_pairs.sort_values('vocabulary_size',ascending=False)\n",
    "print df_author_vocabularysize_pairs"
   ]
  },
  {
   "cell_type": "markdown",
   "metadata": {},
   "source": [
    "Now we need to combine all these individual vocabularies into corpus vocabulary"
   ]
  },
  {
   "cell_type": "code",
   "execution_count": 412,
   "metadata": {
    "collapsed": false
   },
   "outputs": [
    {
     "name": "stdout",
     "output_type": "stream",
     "text": [
      "Corpus Vocabulary Size:93085 words\n"
     ]
    }
   ],
   "source": [
    "#Combine all individual vocabularies\n",
    "corpus_all_words = []\n",
    "for i in authors_index:\n",
    "    corpus_all_words = corpus_all_words + vocabulary[i][1]\n",
    "vocabulary_ = list(set(corpus_all_words))\n",
    "\n",
    "print \"Corpus Vocabulary Size:\"+str(len(vocabulary_))+\" words\"\n"
   ]
  },
  {
   "cell_type": "markdown",
   "metadata": {},
   "source": [
    "It is important to mention that these words may contain Nouns that we can remove by POS tagging BUT in authorship attribution our assumption is that some authors may have favourite character names."
   ]
  },
  {
   "cell_type": "code",
   "execution_count": 413,
   "metadata": {
    "collapsed": false
   },
   "outputs": [],
   "source": [
    "#Create vocabulary RDD\n",
    "vocabrdd = sc.parallelize([word for word in vocabulary_]).map(lambda l: l)\n",
    "#Create vocabulary tuple\n",
    "vocabtups = (vocabrdd.map(lambda word: (word, 1))\n",
    "             .reduceByKey(lambda a, b: a + b)\n",
    "             .map(lambda (x,y): x)\n",
    "             .zipWithIndex()\n",
    ").cache()\n",
    "vocab = vocabtups.collectAsMap()"
   ]
  },
  {
   "cell_type": "markdown",
   "metadata": {},
   "source": [
    "This vocabulary will be passed to CountVectorizer"
   ]
  },
  {
   "cell_type": "markdown",
   "metadata": {},
   "source": [
    "#### 3.3 Feature Selection"
   ]
  },
  {
   "cell_type": "markdown",
   "metadata": {},
   "source": [
    "Careful Feature Selection is imperative for building good machine learning models. From the same datasets one may select different features for different problems. For sentiment analysis, adjectives are selected as features and punctuations may not be critical but an authorship attribution task may use syntactic features of a document. In this stage we can employ dimensionality reduction to reduce the feature space.\n",
    "\n",
    "In this project, I have used \"Bag of Words\" approach. As the name implies, bag of words approach represents text of a document as a set of terms and does not give any significance to context or order."
   ]
  },
  {
   "cell_type": "code",
   "execution_count": 415,
   "metadata": {
    "collapsed": false
   },
   "outputs": [],
   "source": [
    "#Take Samples from Corpus\n",
    "S3_BUCKET_NAME='cs109-gutenberg'\n",
    "\n",
    "#Function to get feature samples\n",
    "def get_features_sample(author_document):\n",
    "    author_label = author_document[0]\n",
    "    document = author_document[1]\n",
    "    complete_sample =[]\n",
    "    sample_size = 200\n",
    "    num_of_samples = 20\n",
    "    index = range(num_of_samples)\n",
    "    words = word_tokenize(document)\n",
    "    for i in index:\n",
    "        sample = np.random.choice(words,sample_size,replace=False)\n",
    "        complete_sample.append(sample)\n",
    "    author_sample = {}\n",
    "    author_sample[author_label] = complete_sample\n",
    "    return (author_label,author_sample)\n",
    "    \n",
    "#Read vocabulary from S3 as dataframe\n",
    "vocab_df = sqlContext.read.json('s3://'+S3_BUCKET_NAME+'/acorpus.json')\n",
    "\n",
    "#Take as many samples as minimum from each vocabulary\n",
    "# Sampling may not be required for clusters with EC2 instances with better\n",
    "# CPU and Memory resources\n",
    "sampled_vocab_rdd = vocab_df.map(lambda x:get_features_sample(x))\n",
    "\n"
   ]
  },
  {
   "cell_type": "code",
   "execution_count": 416,
   "metadata": {
    "collapsed": false
   },
   "outputs": [],
   "source": [
    "#Create a dictionary with \n",
    "#every sample matched with label\n",
    "\n",
    "def create_author_sample_dictionary(feature_sample):\n",
    "    author_label = feature_sample[0]\n",
    "    document_dictionary = feature_sample[1]\n",
    "    dictionary_keys = document_dictionary.keys()\n",
    "    sample_dictionary_list=[]\n",
    "    sample_dictionary = {}\n",
    "    for key in dictionary_keys:\n",
    "        document_array = document_dictionary.get(key)\n",
    "        for samples in document_array:\n",
    "            sample_dictionary = {}\n",
    "            sample_dictionary[key] = samples.tolist()\n",
    "            sample_dictionary_list.append(sample_dictionary)\n",
    "    return (author_label,sample_dictionary_list)\n",
    "\n",
    "author_sample_rdd = sampled_vocab_rdd.map(lambda x:create_author_sample_dictionary(x))\n",
    "sample_dictionary = author_sample_rdd.flatMap(lambda x:x[1]).collect()\n"
   ]
  },
  {
   "cell_type": "code",
   "execution_count": 417,
   "metadata": {
    "collapsed": false
   },
   "outputs": [],
   "source": [
    "\n",
    "#Create Data Frame for feature sets\n",
    "data =[]\n",
    "for dictionary in sample_dictionary:\n",
    "    keys = dictionary.keys()\n",
    "    values_array = dictionary.get(keys[0])\n",
    "    author_data_pair =[]\n",
    "    author_data_pair.append(keys[0])\n",
    "    author_data_pair.append(' '.join(w for w in values_array))\n",
    "    data.append(author_data_pair)\n",
    "    \n",
    "df_features = pd.DataFrame(data, columns=['author','sample'])\n",
    "\n",
    "#Convert author names to numerical values\n",
    "author_name_value_dict = {}\n",
    "for i,author in enumerate(famous_authors):\n",
    "    author_name_value_dict[author]=i\n",
    "\n",
    "df_features['author'] = df_features['author'].map(author_name_value_dict)"
   ]
  },
  {
   "cell_type": "markdown",
   "metadata": {},
   "source": [
    "#### 3.3 Feature Extraction "
   ]
  },
  {
   "cell_type": "markdown",
   "metadata": {},
   "source": [
    "Feature Extraction Process involves converting textual data to numerical feature vectors that can be used as input to machine learning algorithms. I have mainly used CountVectorizer for feature extraction."
   ]
  },
  {
   "cell_type": "code",
   "execution_count": 514,
   "metadata": {
    "collapsed": false
   },
   "outputs": [],
   "source": [
    "#Extract Vector Features\n",
    "vectorizer = CountVectorizer(vocabulary=vocab)\n",
    "\n",
    "#Create x,y i.e features, responses\n",
    "vectorized_features = vectorizer.fit_transform(df_features['sample'])\n",
    "X = vectorized_features\n",
    "y = df_features['author'].values\n"
   ]
  },
  {
   "cell_type": "markdown",
   "metadata": {},
   "source": [
    "### 4. Model Building"
   ]
  },
  {
   "cell_type": "markdown",
   "metadata": {},
   "source": [
    "In this phase I converted the feature set to training and testing portions and used following approach to model building.\n",
    "\n",
    "1) Select a machine learning algorithm\n",
    "\n",
    "2) Conduct KFold Cross Validation for finding optimal parameters\n",
    "\n",
    "3) Fit the model on training data with optimal parameters\n",
    "\n",
    "4) Test the model on testing data\n",
    "\n",
    "5) Compute Accuracy\n",
    "\n",
    "\n",
    "Repeat the steps for each model."
   ]
  },
  {
   "cell_type": "markdown",
   "metadata": {},
   "source": [
    "#### 4.1 Training Testing Split "
   ]
  },
  {
   "cell_type": "code",
   "execution_count": 515,
   "metadata": {
    "collapsed": true
   },
   "outputs": [],
   "source": [
    "xtrain, xtest, ytrain, ytest = train_test_split(X,y)"
   ]
  },
  {
   "cell_type": "markdown",
   "metadata": {},
   "source": [
    "#### 4.2 K Nearest Neighbors (KNN) Classifier "
   ]
  },
  {
   "cell_type": "markdown",
   "metadata": {},
   "source": [
    "KNN is a non-parametric classification algorithm. It does not make any assumption about the distribution of the underlying data and is very fast. It takes majority voting of K neighbors to decide class the feature belongs to."
   ]
  },
  {
   "cell_type": "code",
   "execution_count": 516,
   "metadata": {
    "collapsed": false
   },
   "outputs": [
    {
     "name": "stdout",
     "output_type": "stream",
     "text": [
      "Best Parameters: {'n_neighbors': 8} 0.844444444444 [mean: 0.72222, std: 0.07499, params: {'n_neighbors': 2}, mean: 0.78333, std: 0.06708, params: {'n_neighbors': 4}, mean: 0.80000, std: 0.07095, params: {'n_neighbors': 6}, mean: 0.84444, std: 0.08441, params: {'n_neighbors': 8}]\n",
      "Accuracy on training data: 0.91\n",
      "Accuracy on test data:     0.83\n"
     ]
    }
   ],
   "source": [
    "from sklearn.neighbors import KNeighborsClassifier\n",
    "clf = KNeighborsClassifier()\n",
    "parameters = {\"n_neighbors\":[2,4,6,8]}\n",
    "model = do_classify(clf,parameters,xtrain,ytrain,xtest,ytest)\n"
   ]
  },
  {
   "cell_type": "markdown",
   "metadata": {},
   "source": [
    "#### 4.3  Support Vector Machines"
   ]
  },
  {
   "cell_type": "markdown",
   "metadata": {},
   "source": [
    "Support Vector Machines (SVM) is an extension of Support Vector Classifier. It classifies features by using separating hyperplanes."
   ]
  },
  {
   "cell_type": "code",
   "execution_count": 517,
   "metadata": {
    "collapsed": false
   },
   "outputs": [
    {
     "name": "stdout",
     "output_type": "stream",
     "text": [
      "Best Parameters: {'C': 0.1} 0.961111111111 [mean: 0.92778, std: 0.03854, params: {'C': 0.001}, mean: 0.95000, std: 0.01845, params: {'C': 0.01}, mean: 0.96111, std: 0.01185, params: {'C': 0.1}, mean: 0.96111, std: 0.01185, params: {'C': 1}, mean: 0.96111, std: 0.01185, params: {'C': 10}, mean: 0.96111, std: 0.01185, params: {'C': 100}, mean: 0.96111, std: 0.01185, params: {'C': 1000}]\n",
      "Accuracy on training data: 1.00\n",
      "Accuracy on test data:     0.98\n"
     ]
    }
   ],
   "source": [
    "from sklearn.svm import LinearSVC\n",
    "clf_linearSVC = LinearSVC()\n",
    "parameters = {\"C\": [0.001, 0.01, 0.1, 1, 10, 100, 1000]}\n",
    "model = do_classify(clf_linearSVC,parameters,xtrain,ytrain,xtest,ytest)\n"
   ]
  },
  {
   "cell_type": "markdown",
   "metadata": {},
   "source": [
    "#### 4.4 Naive Bayes "
   ]
  },
  {
   "cell_type": "markdown",
   "metadata": {},
   "source": [
    "Naive Bayes is a probablistic classification method based on Baye's theorem. A naive Bayes classifier assumes that absence or presence of a feature of a class is not related to the absence or presence of other features. This is also called conditional independence.\n",
    "Mathematicall this can be written as :\n",
    "\n",
    "$$P(c|d) \\propto P(d|c) P(c) $$\n",
    "\n",
    "$$P(d|c)  = \\prod_k P(t_k | c) $$\n",
    "\n",
    "\n",
    "Where _c_ is class, _d_ denotes document and _t_k_ is the kth term. This therefore means that the probability that it is class _c_ given document _d_ is proportional to the product of prior probability of the class and probability of document being _d_ if the class is _c_.\n"
   ]
  },
  {
   "cell_type": "code",
   "execution_count": 513,
   "metadata": {
    "collapsed": false,
    "scrolled": true
   },
   "outputs": [
    {
     "name": "stdout",
     "output_type": "stream",
     "text": [
      "Best Parameters: {'alpha': 0.01} 0.95 [mean: 0.95000, std: 0.01758, params: {'alpha': 0.01}, mean: 0.85000, std: 0.05717, params: {'alpha': 0.1}, mean: 0.55556, std: 0.05134, params: {'alpha': 0.5}, mean: 0.40556, std: 0.04886, params: {'alpha': 1}]\n",
      "Accuracy on training data: 1.00\n",
      "Accuracy on test data:     0.95\n"
     ]
    }
   ],
   "source": [
    "clf = MultinomialNB()\n",
    "parameters = {\"alpha\": [0.01, 0.1, 0.5, 1]}\n",
    "result = do_classify(clf,parameters,xtrain,ytrain,xtest,ytest)"
   ]
  },
  {
   "cell_type": "markdown",
   "metadata": {
    "collapsed": true
   },
   "source": [
    "#### 4.5 Random Forest  "
   ]
  },
  {
   "cell_type": "markdown",
   "metadata": {},
   "source": [
    "Random Forest is an ensemble method that fits a number of decision tree classifiers on various subsamples of the dataset and use averaging to improve the predictive accuracy and control over-fitting."
   ]
  },
  {
   "cell_type": "code",
   "execution_count": 486,
   "metadata": {
    "collapsed": false
   },
   "outputs": [
    {
     "name": "stdout",
     "output_type": "stream",
     "text": [
      "Best Parameters: {'n_estimators': 40} 0.666666666667 [mean: 0.43333, std: 0.04683, params: {'n_estimators': 10}, mean: 0.56111, std: 0.03237, params: {'n_estimators': 20}, mean: 0.59444, std: 0.05399, params: {'n_estimators': 30}, mean: 0.66667, std: 0.08489, params: {'n_estimators': 40}]\n",
      "Accuracy on training data: 1.00\n",
      "Accuracy on test data:     0.60\n"
     ]
    }
   ],
   "source": [
    "from sklearn.ensemble import RandomForestClassifier\n",
    "clf = RandomForestClassifier()\n",
    "parameters = {\"n_estimators\": [10, 20, 30, 40]}\n",
    "result = do_classify(clf,parameters,xtrain,ytrain,xtest,ytest)\n"
   ]
  },
  {
   "cell_type": "markdown",
   "metadata": {},
   "source": [
    "#### 4.6 Final Analysis of Multiclass classification"
   ]
  },
  {
   "cell_type": "markdown",
   "metadata": {},
   "source": [
    "Looking at the accuracy results, Multinomial Naive Bayesian and SVM have given the maximum prediction accuracy on testing data. We shall use Naive Bayesian for operational implementation.\n",
    "\n"
   ]
  },
  {
   "cell_type": "code",
   "execution_count": 487,
   "metadata": {
    "collapsed": false
   },
   "outputs": [
    {
     "name": "stdout",
     "output_type": "stream",
     "text": [
      "[[3 0 0 0 0 0 0 0 0 0 0 0]\n",
      " [0 7 0 0 0 0 0 0 0 0 0 0]\n",
      " [0 0 2 0 0 0 0 0 0 0 0 0]\n",
      " [2 0 0 5 1 0 0 0 0 0 0 2]\n",
      " [0 0 0 0 5 0 0 0 0 3 0 0]\n",
      " [0 0 0 0 0 3 0 0 0 0 0 0]\n",
      " [0 0 0 0 0 0 6 0 0 0 0 0]\n",
      " [0 0 0 0 0 0 0 7 0 0 0 0]\n",
      " [0 0 0 0 0 0 0 0 5 0 0 0]\n",
      " [0 0 0 0 0 0 0 0 0 2 0 0]\n",
      " [0 0 0 0 0 0 0 0 0 0 2 0]\n",
      " [0 0 0 0 0 0 0 0 0 0 0 5]]\n",
      "Accuracy on training data: 1.00\n",
      "Accuracy on test data:     0.87\n"
     ]
    }
   ],
   "source": [
    "#Get Confusion matrix\n",
    "clf = MultinomialNB(alpha=0.01)\n",
    "clf.fit(xtrain,ytrain)\n",
    "training_accuracy = clf.score(xtrain, ytrain)\n",
    "test_accuracy = clf.score(xtest, ytest)\n",
    "print confusion_matrix(ytest,clf.predict(xtest))\n",
    "print \"Accuracy on training data: %0.2f\" % (training_accuracy)\n",
    "print \"Accuracy on test data:     %0.2f\" % (test_accuracy)\n",
    "\n"
   ]
  },
  {
   "cell_type": "code",
   "execution_count": 489,
   "metadata": {
    "collapsed": false
   },
   "outputs": [
    {
     "name": "stdout",
     "output_type": "stream",
     "text": [
      "             precision    recall  f1-score   support\n",
      "\n",
      "          0       0.60      1.00      0.75         3\n",
      "          1       1.00      1.00      1.00         7\n",
      "          2       1.00      1.00      1.00         2\n",
      "          3       1.00      0.50      0.67        10\n",
      "          4       0.83      0.62      0.71         8\n",
      "          5       1.00      1.00      1.00         3\n",
      "          6       1.00      1.00      1.00         6\n",
      "          7       1.00      1.00      1.00         7\n",
      "          8       1.00      1.00      1.00         5\n",
      "          9       0.40      1.00      0.57         2\n",
      "         10       1.00      1.00      1.00         2\n",
      "         11       0.71      1.00      0.83         5\n",
      "\n",
      "avg / total       0.91      0.87      0.87        60\n",
      "\n"
     ]
    }
   ],
   "source": [
    "#Print Classification Report\n",
    "print classification_report(ytest,clf.predict(xtest))"
   ]
  },
  {
   "cell_type": "markdown",
   "metadata": {},
   "source": [
    "### 5. Results"
   ]
  },
  {
   "cell_type": "markdown",
   "metadata": {},
   "source": [
    "The results of the project can be summarized as responses to the following questions.\n",
    "\n",
    "1) Can \"Bag of Words\" as features give acceptable classification accuracy?\n",
    "All classifiers have given good accuracies making it a suitable technique for Authorship attribution.\n",
    "\n",
    "2) Which algorithms perform best with Bag of Words?\n",
    "SVM and Naive Bayes have performed best for Bag of Words based authorship attribution.\n",
    "\n",
    "3) How can Big Data processing engines such as Apache Spark aid in preparing data for Machine Learning algorithms?\n",
    "Spark was used through out this project and managed to clean 12G of raw gutenberg data in matter of minutes.\n",
    "\n",
    "4) How can one clean Gutenberg data to be used for different NLP related research projects?\n",
    "Cleaning Gutenberg data took a long time. NLTK provides a subset of Gutenberg corpus but it would be interesting to scale up authorship attribution for the full set of authors using complete Gutenberg data.\n",
    "\n",
    "5) Can AWS EMR be used as a viable cloud based Big Data platform?\n",
    "I have found AWS EMR to be very convenient. EMR clusters with m3.xlarge with 3 nodes are more than enough for most operations but the cleaning stage required 5 EC2 nodes of m3.xlarge. "
   ]
  },
  {
   "cell_type": "markdown",
   "metadata": {},
   "source": [
    "### 6. Operational Implementation "
   ]
  },
  {
   "cell_type": "markdown",
   "metadata": {},
   "source": [
    "In this phase the model should be saved and used via command line.\n"
   ]
  },
  {
   "cell_type": "markdown",
   "metadata": {},
   "source": [
    "#### 6.1 Saving the model "
   ]
  },
  {
   "cell_type": "code",
   "execution_count": 495,
   "metadata": {
    "collapsed": false
   },
   "outputs": [
    {
     "data": {
      "text/plain": [
       "['./data/vectorizer.pkl']"
      ]
     },
     "execution_count": 495,
     "metadata": {},
     "output_type": "execute_result"
    }
   ],
   "source": [
    "#We can save the model as pickel file\n",
    "from sklearn.externals import joblib\n",
    "clf_linearSVC = LinearSVC(C=0.01)\n",
    "clf_linearSVC.fit(xtrain,ytrain)\n",
    "joblib.dump(clf_linearSVC, './data/svm.pkl')\n",
    "joblib.dump(clf, './data/classifier.pkl')\n",
    "joblib.dump(vectorizer,'./data/vectorizer.pkl')\n"
   ]
  },
  {
   "cell_type": "markdown",
   "metadata": {},
   "source": [
    "#### 6.2 Script to Load Text File and Give Result "
   ]
  },
  {
   "cell_type": "code",
   "execution_count": null,
   "metadata": {
    "collapsed": true
   },
   "outputs": [],
   "source": [
    "#This code is given in the scripts folder and should be run on \n",
    "#via command line\n",
    "#!/usr/bin/env python\n",
    "# This script can be used to detect author's name from sample of his/her works\n",
    "from sklearn.externals import joblib\n",
    "from nltk.corpus import stopwords\n",
    "from nltk.stem import WordNetLemmatizer\n",
    "from nltk.tokenize import word_tokenize\n",
    "import re\n",
    "import sys\n",
    "\n",
    "#Model file path\n",
    "model_file = '../data/classifier.pkl'\n",
    "vectorizer_file = '../data/vectorizer.pkl'\n",
    "# The machine learning model used in this case is only trained with the following authors.\n",
    "famous_authors = ['charles_dickens','william_shakespeare','jane_austen','james_joyce','mark_twain','oscar_wilde','edgar_allan_poe',\n",
    "                  'francis_bacon_st_albans','christopher_marlowe','joseph_conrad','agatha_christie','dh_lawrence']\n",
    "#Function : print_help\n",
    "#Purpose : Function to display help message\n",
    "def print_help():\n",
    "    print \"Usage :\"+sys.argv[0]+\" <path to sample text file>\"\n",
    "    print \" Where sample text file contains text by one of authors given above\"\n",
    "#Function : get_author_text\n",
    "#Purpose : Convert raw text document to tokens\n",
    "def get_author_text(sample_file):\n",
    "     try:\n",
    "\n",
    "        with open(sample_file,'r') as file:\n",
    "            data = file.read()\n",
    "     except IOError as e:\n",
    "        print \"I/O Error\".format(e.errno, e.strerror)\n",
    "        sys.exit(2)\n",
    "\n",
    "     #Set language for stopwords\n",
    "     stopwords_ = stopwords.words('english')\n",
    "     #Instantiate Lemmatizer\n",
    "     wordnet_lemmatizer_ = WordNetLemmatizer()\n",
    "     #Clean the sample data\n",
    "     contents = unicode(data, 'utf-8')\n",
    "     prog = re.compile('[\\t\\n\\r\\f\\v\\d\\']',re.UNICODE)\n",
    "     contents = re.sub(prog,' ',contents).lower()\n",
    "     #Remove punctuations\n",
    "     prog=re.compile('[!\\\"#$%&\\'()*+\\,-./:;<=>?@[\\]^_`{|}~]',re.UNICODE)\n",
    "     contents = re.sub(prog,' ',contents)\n",
    "     words = word_tokenize(contents)\n",
    "     #Remove stop words and punctuations\n",
    "     vocab = []\n",
    "     for word in words:\n",
    "         word=word.strip()\n",
    "         if len(word)>1:\n",
    "             if word not in stopwords_:\n",
    "                 vocab.append(wordnet_lemmatizer_.lemmatize(word))\n",
    "     return vocab\n",
    "\n",
    "#Check input arguments\n",
    "if (len(sys.argv) < 2):\n",
    "    print_help()\n",
    "    sys.exit(1)\n",
    "\n",
    "text = get_author_text(sys.argv[1])\n",
    "clf = joblib.load(model_file)\n",
    "svm = joblib.load('../data/svm.pkl')\n",
    "vectorizer = joblib.load(vectorizer_file)\n",
    "features = vectorizer.transform(text)\n",
    "nb_prediction= clf.predict(features).tolist()\n",
    "svm_prediction = svm.predict(features).tolist()\n",
    "print nb_prediction\n",
    "print svm_prediction\n"
   ]
  },
  {
   "cell_type": "markdown",
   "metadata": {},
   "source": [
    "## References\n",
    "\n",
    "[1]. Stańczyk, U & Krzysztof, AC 2007, 'Machine learning approach to authorship attribution of literary texts', vol. 1, no. 4, pp. 151-158.\n",
    "\n",
    "[2]. Bozkurt, D., Baglıoglu, O., & Uyar, E. 2007, 'Authorship Attribution: Performance of Various Features and Classification Methods' Computer and Information Sciences.\n",
    "\n",
    "[3]. Pratanwanich, N & Lio, P 2014, 'Who Wrote This? Textual Modeling with Authorship Attribution in Big Data',Proceedings of the ￼2014 IEEE International Conference on Data Mining Workshop , pp 645-652.\n",
    "\n",
    "_Online Resources_:\n",
    "\n",
    "https://en.wikipedia.org/wiki/Stylometry\n",
    "\n",
    "http://michaelryanbell.com/processing-whole-files-spark-s3.html \n",
    "\n",
    "http://help.mortardata.com/technologies/spark/train_a_machine_learning_model\n"
   ]
  }
 ],
 "metadata": {
  "kernelspec": {
   "display_name": "Python 2",
   "language": "python",
   "name": "python2"
  },
  "language_info": {
   "codemirror_mode": {
    "name": "ipython",
    "version": 2
   },
   "file_extension": ".py",
   "mimetype": "text/x-python",
   "name": "python",
   "nbconvert_exporter": "python",
   "pygments_lexer": "ipython2",
   "version": "2.7.11"
  }
 },
 "nbformat": 4,
 "nbformat_minor": 0
}
